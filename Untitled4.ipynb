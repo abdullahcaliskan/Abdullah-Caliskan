{
 "cells": [
  {
   "cell_type": "markdown",
   "metadata": {
    "slideshow": {
     "slide_type": "skip"
    }
   },
   "source": [
    "# Gerekli Kütüphanelerin Yüklenmesi"
   ]
  },
  {
   "cell_type": "markdown",
   "metadata": {},
   "source": [
    "Öncelikle gerekli kütüphaneler yüklenir. "
   ]
  },
  {
   "cell_type": "code",
   "execution_count": 1,
   "metadata": {
    "slideshow": {
     "slide_type": "slide"
    }
   },
   "outputs": [],
   "source": [
    "import numpy as np                 \n",
    "import pandas as pd                \n",
    "import matplotlib.pyplot as plt    \n",
    "import seaborn as sns              \n",
    "import numpy.matlib\n",
    "import matplotlib.cm as cm\n",
    "import matplotlib.pyplot as plt\n",
    "from sklearn.metrics import accuracy_score\n",
    "from sklearn.model_selection import train_test_split\n",
    "from sklearn.metrics import confusion_matrix\n",
    "from sklearn.metrics import classification_report\n",
    "from sklearn.neighbors import KNeighborsClassifier"
   ]
  },
  {
   "cell_type": "markdown",
   "metadata": {},
   "source": [
    "İkinci adımda örnek veri seti oluşturalım: \n",
    "\n",
    "\\begin{matrix}\n",
    " veri=\\begin{bmatrix}\n",
    "1 & 2  & 0 \\\\ \n",
    "2 & 3 & 0 \\\\ \n",
    "3 & 4 & 0\\\\ \n",
    "1 & 4 & 0\\\\ \n",
    "3 & 5 & 1\\\\ \n",
    "5 & 6 & 1\\\\ \n",
    "6 & 7 & 1\\\\ \n",
    "7 & 8 & 1\n",
    "\\end{bmatrix} & x=\\begin{bmatrix}\n",
    "1 & 2   \\\\ \n",
    "2 & 3 \\\\ \n",
    "3 & 4 \\\\ \n",
    "1 & 4 \\\\ \n",
    "3 & 5 \\\\ \n",
    "5 & 6 \\\\ \n",
    "6 & 7 \\\\ \n",
    "7 & 8\n",
    "\\end{bmatrix}  & y=\\begin{bmatrix}\n",
    "0  \\\\ \n",
    "0   \\\\ \n",
    "0  \\\\ \n",
    "0   \\\\ \n",
    "1   \\\\ \n",
    "1   \\\\ \n",
    "1  \\\\ \n",
    "1  \n",
    "\\end{bmatrix}\n",
    "\\end{matrix}\n",
    "\n",
    "\n",
    "\n",
    "\n",
    "Yeni bir örnek bu veri setine eklendiğinde örneğin $[1 \\ \\ 3]$ acaba hangi sınıfın üyesi olur. Bunu, bu örnek için kolayca tahmin etmek zor değil ancak amacımız bu algoritmanın mantığını öğretmek. Öncelikle bu yeni örneğimizin elimizdeki veri setindeki her bir elemanla ne kadar uzaklıkta olduğu bulunur. Bu uzaklığı bulmak için yeni gelen elemanımız veri setinin giris olan $x$ matrisi ile aynı boyutta olacak şekilde aşağıdaki gibi ayarlanır. \n",
    "\n",
    "\\begin{equation}\n",
    "mesafe = |x-x_{yeni}|\n",
    "\\end{equation}\n",
    "\n",
    "\n",
    "\\begin{equation}\n",
    "mesefe=\n",
    "\\begin{vmatrix}\n",
    " &\\begin{bmatrix}\n",
    "1 & 2   \\\\ \n",
    "2 & 3 \\\\ \n",
    "3 & 4 \\\\ \n",
    "1 & 4 \\\\ \n",
    "3 & 5 \\\\ \n",
    "5 & 6 \\\\ \n",
    "6 & 7 \\\\ \n",
    "7 & 8\n",
    "\\end{bmatrix}  & -& \\begin{bmatrix}\n",
    "1 & 3  \\\\ \n",
    "1 & 3   \\\\ \n",
    "1 & 3  \\\\ \n",
    "1 & 3   \\\\ \n",
    "1 & 3   \\\\ \n",
    "1 & 3  \\\\ \n",
    "1 & 3 \\\\ \n",
    "1 & 3 \n",
    "\\end{bmatrix}& \n",
    "\\end{vmatrix}\n",
    "\\end{equation}\n",
    "\n",
    "\n",
    "\n",
    "\\begin{equation}\n",
    "mesefe=\n",
    "\\begin{matrix}\n",
    " &\\begin{bmatrix}\n",
    "0 & 1   \\\\ \n",
    "1 & 0 \\\\ \n",
    "2 & 1 \\\\ \n",
    "0 & 1 \\\\ \n",
    "2 & 2 \\\\ \n",
    "4 & 3 \\\\ \n",
    "5 & 4 \\\\ \n",
    "6 & 5\n",
    "\\end{bmatrix}  & = &\\begin{bmatrix}\n",
    "0 & + & 1   \\\\ \n",
    "1 & + & 0 \\\\ \n",
    "2 & + & 1 \\\\ \n",
    "0 & + & 1 \\\\ \n",
    "2 & + & 2 \\\\ \n",
    "4 & + & 3 \\\\ \n",
    "5 & + & 4 \\\\ \n",
    "6 & + & 5\n",
    "\\end{bmatrix}& = &\\begin{bmatrix}\n",
    "1   \\\\ \n",
    "1 \\\\ \n",
    "3 \\\\ \n",
    "1 \\\\ \n",
    "4 \\\\ \n",
    "7 \\\\ \n",
    "9 \\\\ \n",
    "11\n",
    "\\end{bmatrix}\n",
    "\\end{matrix}\n",
    "\\end{equation}\n",
    "\n",
    "k=3 olarak seçilirse en yakın üç komşu belirlenir. Bu örnekte bunlar $[ 1 \\ 2 ]$ $[ 2 \\ 3 ]$ ve $[ 1 \\ 4 ]$ dir. Bu üç elemanda 0 ile etiketli olduğu için yeni elemanımız 0 olarak etiketlenir. \n",
    "\n",
    "Bu algoritmanın performansı k ya ve mesefenin nasıl hesaplandığına göre değişebilir. Biz bu örnekte Manhattan uzaklık foksiyonunu kullandık. Bu fonksiyon: \n",
    "\n",
    "koordinatları $(x_1, y_1)$ ve $(x_2, y_2)$ olarak verilen iki nokta arasındaki mesafe aşağıda görüldüğü gibi bulunur:\n",
    "\n",
    "\\begin{equation}\n",
    "mes=|x_1-x_2| + |y_1-y_2|\n",
    "\\end{equation}\n",
    "\n",
    "Aslında bu algoritmada daha sık kullanılan mesafe olcüm yöntemi Öklid mesafesidir. Oda bilindiği üzere aşağıda olduğu gibi bunulur. \n",
    "\n",
    "\\begin{equation}\n",
    "mes=\\sqrt{{(x_1-x_2)}^2 + {(y_1-y_2)}^2}\n",
    "\\end{equation}\n"
   ]
  },
  {
   "cell_type": "markdown",
   "metadata": {},
   "source": [
    "# Örnek Kod"
   ]
  },
  {
   "cell_type": "markdown",
   "metadata": {},
   "source": [
    "Öncelikle yukarıdaki matrisi numpy kütüphanesi kullanarak oluşturalım:"
   ]
  },
  {
   "cell_type": "code",
   "execution_count": 6,
   "metadata": {},
   "outputs": [
    {
     "name": "stdout",
     "output_type": "stream",
     "text": [
      "[[1 2 0]\n",
      " [2 3 0]\n",
      " [3 4 0]\n",
      " [1 4 0]\n",
      " [3 5 1]\n",
      " [5 6 1]\n",
      " [6 7 1]\n",
      " [7 8 1]]\n"
     ]
    }
   ],
   "source": [
    "a = np.array([[1, 2, 0],[2,3, 0],[3,4, 0],[1,4,0],[3,5,1],[5,6,1],[6,7,1],[7,8,1]])\n",
    "print(a)"
   ]
  },
  {
   "cell_type": "markdown",
   "metadata": {},
   "source": [
    "Elimizdeki veriyi görselleştirmek için aşağıdaki adımları uyguluyoruz. Burada problemin daha anlaşılır olması için gerçek bir probleme uyarlama yapıldı.  "
   ]
  },
  {
   "cell_type": "code",
   "execution_count": 8,
   "metadata": {},
   "outputs": [
    {
     "name": "stdout",
     "output_type": "stream",
     "text": [
      "   tümor hacmi  tümor ağırlık  Sonuc\n",
      "0            1              2      0\n",
      "1            2              3      0\n",
      "2            3              4      0\n",
      "3            1              4      0\n",
      "4            3              5      1\n",
      "5            5              6      1\n",
      "6            6              7      1\n",
      "7            7              8      1\n"
     ]
    },
    {
     "data": {
      "image/png": "[encoded data removed]",
      "text/plain": [
       "<Figure size 432x288 with 1 Axes>"
      ]
     },
     "metadata": {
      "needs_background": "light"
     },
     "output_type": "display_data"
    }
   ],
   "source": [
    "df = pd.DataFrame(a,columns=[\"tümor hacmi\", \"tümor ağırlık\",\"Sonuc\"])\n",
    "print(df)\n",
    "#f = plt.figure()\n",
    "#f=sns.pairplot(df,hue=\"output\")\n",
    "f=sns.scatterplot(x=\"tümor hacmi\", y=\"tümor ağırlık\", hue=\"Sonuc\",data=df)\n",
    "f.figure.savefig('image.svg',format='svg', dpi=1200)"
   ]
  },
  {
   "cell_type": "markdown",
   "metadata": {},
   "source": [
    "En yakın komuşu algoritmasına başlıyoruz: "
   ]
  },
  {
   "cell_type": "code",
   "execution_count": 9,
   "metadata": {},
   "outputs": [],
   "source": [
    "k=3  # değişkeni istedğiniz değeri alabilirsiniz ancak genelde k=3 ya da 5 idealdir.\n",
    "x = a[:,0:2] # giriş verisi a dan x matrisi ayrılıyor.\n",
    "y = a[:,-1] # giriş verisi a dan y vektörü ayrılıyor.\n",
    "x_yeni = np.array([1,3]) # test için kullanılacak x_yeni olarak adalandırılan eleman\n",
    "x_yeni = np.matlib.repmat(x_yeni,8,1) # yukarıda olduğu gibi x ile aynı boyuta getirildi. "
   ]
  },
  {
   "cell_type": "markdown",
   "metadata": {},
   "source": [
    "Şimdi mesafeyi hesaplıyoruz. "
   ]
  },
  {
   "cell_type": "code",
   "execution_count": 10,
   "metadata": {},
   "outputs": [
    {
     "name": "stdout",
     "output_type": "stream",
     "text": [
      "[ 1  1  3  1  4  7  9 11]\n"
     ]
    }
   ],
   "source": [
    "Man_hantan = np.abs(x-x_yeni)\n",
    "Man_hantan_dis = np.sum(Man_hantan,axis=1)\n",
    "print(Man_hantan_dis)"
   ]
  },
  {
   "cell_type": "code",
   "execution_count": 11,
   "metadata": {},
   "outputs": [
    {
     "name": "stdout",
     "output_type": "stream",
     "text": [
      "Tahmin edilen sınıf =  0\n"
     ]
    }
   ],
   "source": [
    "deger=np.sort(Man_hantan_dis)\n",
    "index=np.argsort(Man_hantan_dis) #mesafeleri küçükten buyuye doğru sıralıyoruz\n",
    "ind=index[0:k] #en yakın k tanesinin index bilgisini alıyoruz.\n",
    "k_nears=y[ind] #etiketlerden k adeti alınıyor. \n",
    "esik=sum(k_nears)/len(k_nears) # bu kısımda bir eşik değeri hesaplanır \n",
    "#aslında sıfır ne kadar coksa bu değer o kadr dusuk olur.\n",
    "\n",
    "if esik<0.5:  # karşılaştırma yapılır. \n",
    "    y_pred=0\n",
    "else:\n",
    "    y_pred=1\n",
    "    \n",
    "print(\"Tahmin edilen sınıf = \", y_pred)"
   ]
  },
  {
   "cell_type": "markdown",
   "metadata": {},
   "source": [
    "Ikinci yol scikit-learn kütüphanesi kullanarak çözüm:  "
   ]
  },
  {
   "cell_type": "code",
   "execution_count": 26,
   "metadata": {},
   "outputs": [],
   "source": [
    "x_train,x_test,y_train,y_test=train_test_split(x,y,test_size=0.25)"
   ]
  },
  {
   "cell_type": "code",
   "execution_count": 36,
   "metadata": {},
   "outputs": [
    {
     "name": "stdout",
     "output_type": "stream",
     "text": [
      "[[3 4]\n",
      " [5 6]\n",
      " [1 4]\n",
      " [7 8]\n",
      " [6 7]\n",
      " [3 5]]\n",
      "[1 3]\n",
      "[0 1 0 1 1 1]\n",
      "[0 0]\n"
     ]
    },
    {
     "data": {
      "text/plain": [
       "numpy.ndarray"
      ]
     },
     "execution_count": 36,
     "metadata": {},
     "output_type": "execute_result"
    }
   ],
   "source": [
    "print(x_train)\n",
    "print(x_test)\n",
    "print(y_train)\n",
    "print(y_test)\n",
    "type(x_train)"
   ]
  },
  {
   "cell_type": "code",
   "execution_count": 28,
   "metadata": {},
   "outputs": [
    {
     "data": {
      "text/plain": [
       "KNeighborsClassifier(algorithm='auto', leaf_size=30, metric='minkowski',\n",
       "                     metric_params=None, n_jobs=None, n_neighbors=2, p=2,\n",
       "                     weights='uniform')"
      ]
     },
     "execution_count": 28,
     "metadata": {},
     "output_type": "execute_result"
    }
   ],
   "source": [
    "#Model\n",
    "knn=KNeighborsClassifier(n_neighbors=2)\n",
    "knn.fit(x_train,y_train)"
   ]
  },
  {
   "cell_type": "code",
   "execution_count": 29,
   "metadata": {},
   "outputs": [
    {
     "data": {
      "text/plain": [
       "array([0, 0])"
      ]
     },
     "execution_count": 29,
     "metadata": {},
     "output_type": "execute_result"
    }
   ],
   "source": [
    "#Predictions\n",
    "y_pred=knn.predict(x_test)\n",
    "y_pred"
   ]
  },
  {
   "cell_type": "code",
   "execution_count": 30,
   "metadata": {},
   "outputs": [
    {
     "name": "stdout",
     "output_type": "stream",
     "text": [
      "Accuracy :  1.0\n"
     ]
    }
   ],
   "source": [
    "#Accuracy\n",
    "print(\"Accuracy : \",knn.score(x_test,y_test))"
   ]
  },
  {
   "cell_type": "code",
   "execution_count": null,
   "metadata": {},
   "outputs": [],
   "source": []
  },
  {
   "cell_type": "code",
   "execution_count": 31,
   "metadata": {},
   "outputs": [
    {
     "data": {
      "image/png": "[encoded data removed]",
      "text/plain": [
       "<Figure size 432x288 with 2 Axes>"
      ]
     },
     "metadata": {},
     "output_type": "display_data"
    }
   ],
   "source": [
    "#Plot The confussion matrix\n",
    "sns.set(font_scale=1.5)\n",
    "cm=confusion_matrix(y_pred,y_test)\n",
    "sns.heatmap(cm,annot=True,fmt=\"g\")\n",
    "plt.show()\n"
   ]
  },
  {
   "cell_type": "code",
   "execution_count": 42,
   "metadata": {
    "scrolled": true
   },
   "outputs": [
    {
     "data": {
      "text/plain": [
       "array([0, 1])"
      ]
     },
     "execution_count": 42,
     "metadata": {},
     "output_type": "execute_result"
    }
   ],
   "source": [
    "x_test=np.array([[1,3],[7,5]])\n",
    "y_pred=knn.predict(x_test)\n",
    "y_pred"
   ]
  },
  {
   "cell_type": "code",
   "execution_count": null,
   "metadata": {},
   "outputs": [],
   "source": []
  }
 ],
 "metadata": {
  "kernelspec": {
   "display_name": "Python 3",
   "language": "python",
   "name": "python3"
  },
  "language_info": {
   "codemirror_mode": {
    "name": "ipython",
    "version": 3
   },
   "file_extension": ".py",
   "mimetype": "text/x-python",
   "name": "python",
   "nbconvert_exporter": "python",
   "pygments_lexer": "ipython3",
   "version": "3.7.3"
  }
 },
 "nbformat": 4,
 "nbformat_minor": 2
}
