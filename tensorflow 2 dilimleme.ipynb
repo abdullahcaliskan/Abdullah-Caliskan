{
 "cells": [
  {
   "cell_type": "markdown",
   "metadata": {},
   "source": [
    "### Bu bolumde tensorflow 2.1'de veri setini değişik şekillerde gruplandırmayı öğreneceğiz.\n"
   ]
  },
  {
   "cell_type": "markdown",
   "metadata": {},
   "source": [
    "Lütfen ekteki resme bakınız. "
   ]
  },
  {
   "cell_type": "code",
   "execution_count": 1,
   "metadata": {},
   "outputs": [],
   "source": [
    "\n",
    "import  tensorflow as tf\n",
    "import numpy as np\n",
    "    \n"
   ]
  },
  {
   "cell_type": "code",
   "execution_count": 2,
   "metadata": {},
   "outputs": [],
   "source": [
    "#1 adım şekildeki matris ve vektor oluşturulur \n",
    "x=np.array([[2,2,3],[3,4,5],[4,5,7],[8,9,10],[2,3,4],[2,0,4]])\n",
    "y=np.array([0,1,2,3,4,5])"
   ]
  },
  {
   "cell_type": "code",
   "execution_count": 3,
   "metadata": {},
   "outputs": [],
   "source": [
    "#daha sonra x, y tensore donusturulur.\n",
    "x=tf.convert_to_tensor(x,dtype=tf.float32)\n",
    "y=tf.convert_to_tensor(y,dtype=tf.float32)\n"
   ]
  },
  {
   "cell_type": "code",
   "execution_count": 4,
   "metadata": {},
   "outputs": [],
   "source": [
    "#2 adım olarak db denilen tensor yapısı elde edilir. \n",
    "#Bu yapı hem x ve y yi birleştirir hem de\n",
    "#x ye y yi dilimlere ayırır. \n",
    "db = tf.data.Dataset.from_tensor_slices((x,y))"
   ]
  },
  {
   "cell_type": "code",
   "execution_count": 5,
   "metadata": {},
   "outputs": [],
   "source": [
    "#3 adımda şekilde görüldüğü gibi tek tek dilimlere ayrılan \n",
    "#kısımlar istenilen sayıda (burada 2 olrak verilmiş) gruba ayrılır.\n",
    "#ve bu patern 3 defa tekrar eder. \n",
    "db = db.batch(2).repeat(3)\n"
   ]
  },
  {
   "cell_type": "code",
   "execution_count": 6,
   "metadata": {},
   "outputs": [
    {
     "name": "stdout",
     "output_type": "stream",
     "text": [
      "(<tf.Tensor: shape=(2, 3), dtype=float32, numpy=\n",
      "array([[2., 2., 3.],\n",
      "       [3., 4., 5.]], dtype=float32)>, <tf.Tensor: shape=(2,), dtype=float32, numpy=array([0., 1.], dtype=float32)>)\n",
      "(<tf.Tensor: shape=(2, 3), dtype=float32, numpy=\n",
      "array([[ 4.,  5.,  7.],\n",
      "       [ 8.,  9., 10.]], dtype=float32)>, <tf.Tensor: shape=(2,), dtype=float32, numpy=array([2., 3.], dtype=float32)>)\n",
      "(<tf.Tensor: shape=(2, 3), dtype=float32, numpy=\n",
      "array([[2., 3., 4.],\n",
      "       [2., 0., 4.]], dtype=float32)>, <tf.Tensor: shape=(2,), dtype=float32, numpy=array([4., 5.], dtype=float32)>)\n",
      "(<tf.Tensor: shape=(2, 3), dtype=float32, numpy=\n",
      "array([[2., 2., 3.],\n",
      "       [3., 4., 5.]], dtype=float32)>, <tf.Tensor: shape=(2,), dtype=float32, numpy=array([0., 1.], dtype=float32)>)\n",
      "(<tf.Tensor: shape=(2, 3), dtype=float32, numpy=\n",
      "array([[ 4.,  5.,  7.],\n",
      "       [ 8.,  9., 10.]], dtype=float32)>, <tf.Tensor: shape=(2,), dtype=float32, numpy=array([2., 3.], dtype=float32)>)\n",
      "(<tf.Tensor: shape=(2, 3), dtype=float32, numpy=\n",
      "array([[2., 3., 4.],\n",
      "       [2., 0., 4.]], dtype=float32)>, <tf.Tensor: shape=(2,), dtype=float32, numpy=array([4., 5.], dtype=float32)>)\n",
      "(<tf.Tensor: shape=(2, 3), dtype=float32, numpy=\n",
      "array([[2., 2., 3.],\n",
      "       [3., 4., 5.]], dtype=float32)>, <tf.Tensor: shape=(2,), dtype=float32, numpy=array([0., 1.], dtype=float32)>)\n",
      "(<tf.Tensor: shape=(2, 3), dtype=float32, numpy=\n",
      "array([[ 4.,  5.,  7.],\n",
      "       [ 8.,  9., 10.]], dtype=float32)>, <tf.Tensor: shape=(2,), dtype=float32, numpy=array([2., 3.], dtype=float32)>)\n",
      "(<tf.Tensor: shape=(2, 3), dtype=float32, numpy=\n",
      "array([[2., 3., 4.],\n",
      "       [2., 0., 4.]], dtype=float32)>, <tf.Tensor: shape=(2,), dtype=float32, numpy=array([4., 5.], dtype=float32)>)\n"
     ]
    }
   ],
   "source": [
    "for element in db: \n",
    "    print(element) "
   ]
  },
  {
   "cell_type": "code",
   "execution_count": 7,
   "metadata": {},
   "outputs": [
    {
     "name": "stdout",
     "output_type": "stream",
     "text": [
      "[(array([[2., 2., 3.],\n",
      "       [3., 4., 5.]], dtype=float32), array([0., 1.], dtype=float32)), (array([[ 4.,  5.,  7.],\n",
      "       [ 8.,  9., 10.]], dtype=float32), array([2., 3.], dtype=float32)), (array([[2., 3., 4.],\n",
      "       [2., 0., 4.]], dtype=float32), array([4., 5.], dtype=float32)), (array([[2., 2., 3.],\n",
      "       [3., 4., 5.]], dtype=float32), array([0., 1.], dtype=float32)), (array([[ 4.,  5.,  7.],\n",
      "       [ 8.,  9., 10.]], dtype=float32), array([2., 3.], dtype=float32)), (array([[2., 3., 4.],\n",
      "       [2., 0., 4.]], dtype=float32), array([4., 5.], dtype=float32)), (array([[2., 2., 3.],\n",
      "       [3., 4., 5.]], dtype=float32), array([0., 1.], dtype=float32)), (array([[ 4.,  5.,  7.],\n",
      "       [ 8.,  9., 10.]], dtype=float32), array([2., 3.], dtype=float32)), (array([[2., 3., 4.],\n",
      "       [2., 0., 4.]], dtype=float32), array([4., 5.], dtype=float32))]\n"
     ]
    }
   ],
   "source": [
    "print(list(db.as_numpy_iterator())) "
   ]
  },
  {
   "cell_type": "code",
   "execution_count": null,
   "metadata": {},
   "outputs": [],
   "source": []
  }
 ],
 "metadata": {
  "kernelspec": {
   "display_name": "Python 3",
   "language": "python",
   "name": "python3"
  },
  "language_info": {
   "codemirror_mode": {
    "name": "ipython",
    "version": 3
   },
   "file_extension": ".py",
   "mimetype": "text/x-python",
   "name": "python",
   "nbconvert_exporter": "python",
   "pygments_lexer": "ipython3",
   "version": "3.7.7"
  }
 },
 "nbformat": 4,
 "nbformat_minor": 4
}
